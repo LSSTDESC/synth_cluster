{
 "cells": [
  {
   "cell_type": "code",
   "execution_count": 2,
   "id": "370a6b2c-a749-4d13-883e-1ee398df4fa8",
   "metadata": {},
   "outputs": [],
   "source": [
    "import matplotlib.pyplot as plt\n",
    "%matplotlib inline"
   ]
  },
  {
   "cell_type": "code",
   "execution_count": 3,
   "id": "9efa3874-f085-4696-843d-6c8f6a53a531",
   "metadata": {},
   "outputs": [],
   "source": [
    "## Note: if you clone the gcr-catalogs repo and are running this under the `examples` folder,\n",
    "## you can also use your version of GCRCatalogs:\n",
    "#import sys\n",
    "#sys.path.insert(0, '/path/to/your/cloned/gcr-catalogs')\n",
    "\n",
    "## The following lines are to check if you're in the lsst group\n",
    "import subprocess\n",
    "assert u'lsst' in subprocess.check_output(['groups']).decode().split(), 'You need to be in the `lsst` group for this notebook to work'"
   ]
  },
  {
   "cell_type": "code",
   "execution_count": 4,
   "id": "26aa2b72-c3a7-45b3-8fa1-2b575daa37a3",
   "metadata": {},
   "outputs": [],
   "source": [
    "import numpy as np"
   ]
  },
  {
   "cell_type": "code",
   "execution_count": 5,
   "id": "ff105dbe-df51-4d2f-b6e3-2322a7c0befe",
   "metadata": {},
   "outputs": [
    {
     "name": "stdout",
     "output_type": "stream",
     "text": [
      "GCRCatalogs = 1.3.2 | GCR = 0.9.2\n"
     ]
    }
   ],
   "source": [
    "import GCRCatalogs\n",
    "\n",
    "## check version\n",
    "print('GCRCatalogs =', GCRCatalogs.__version__, '|' ,'GCR =', GCRCatalogs.GCR.__version__)"
   ]
  },
  {
   "cell_type": "code",
   "execution_count": 6,
   "id": "19a111b2-c6d2-4a24-b9e0-01e10dbeeaa9",
   "metadata": {},
   "outputs": [
    {
     "name": "stdout",
     "output_type": "stream",
     "text": [
      "buzzard\n",
      "buzzard_high-res\n",
      "cosmoDC2_v1.1.4_image\n",
      "cosmoDC2_v1.1.4_redmapper_v0.7.5\n",
      "cosmoDC2_v1.1.4_small\n",
      "dc2_object_run1.2i\n",
      "dc2_object_run1.2i_all_columns\n",
      "dc2_object_run1.2i_tract4850\n",
      "dc2_object_run1.2i_with_photoz\n",
      "dc2_object_run1.2p\n",
      "dc2_object_run1.2p_all_columns\n",
      "dc2_object_run1.2p_tract4850\n",
      "dc2_object_run2.2i_dr2_wfd\n",
      "dc2_object_run2.2i_dr2_wfd_with_addons\n",
      "dc2_object_run2.2i_dr3a\n",
      "dc2_object_run2.2i_dr3a_with_metacal\n",
      "dc2_object_run2.2i_dr3a_with_photoz\n",
      "dc2_object_run2.2i_dr6\n",
      "dc2_object_run2.2i_dr6_with_addons\n",
      "dc2_truth_run1.2_static\n",
      "dc2_truth_run1.2_variable_lightcurve\n",
      "dc2_truth_run1.2_variable_summary\n",
      "dc2_truth_run2.2i_galaxy_truth_summary\n",
      "dc2_truth_run2.2i_sn_truth_summary\n",
      "dc2_truth_run2.2i_sn_variability_truth\n",
      "dc2_truth_run2.2i_star_lc_stats\n",
      "dc2_truth_run2.2i_star_truth_summary\n",
      "dc2_truth_run2.2i_star_variability_truth\n",
      "dc2_truth_run2.2i_summary_tract_partition\n",
      "dc2_truth_run3.1i_agn_auxiliary_info\n",
      "dc2_truth_run3.1i_agn_truth_summary\n",
      "dc2_truth_run3.1i_agn_variability_truth\n",
      "dc2_truth_run3.1i_lensed_agn_truth_summary\n",
      "dc2_truth_run3.1i_lensed_agn_variability_truth\n",
      "dc2_truth_run3.1i_lensed_host_truth_summary\n",
      "dc2_truth_run3.1i_lensed_sn_variability_truth\n",
      "dc2_truth_run3.1i_lensed_sne_truth_summary\n",
      "protoDC2\n",
      "protoDC2_run1.2\n",
      "skysim5000_v1.1.1\n"
     ]
    }
   ],
   "source": [
    "## find available catlaogs, sorted by their name\n",
    "\n",
    "print('\\n'.join(sorted(GCRCatalogs.get_available_catalogs())))"
   ]
  },
  {
   "cell_type": "code",
   "execution_count": 7,
   "id": "f8262af4-4f27-49a8-8aab-d372ec872856",
   "metadata": {},
   "outputs": [],
   "source": [
    "catalog = GCRCatalogs.load_catalog('protoDC2')\n"
   ]
  },
  {
   "cell_type": "code",
   "execution_count": 8,
   "id": "2468f9ba-87d1-47b6-a81b-dbbd6fea8484",
   "metadata": {},
   "outputs": [],
   "source": [
    "data = catalog.get_quantities(['ra', 'dec'])"
   ]
  },
  {
   "cell_type": "code",
   "execution_count": 9,
   "id": "dad88772-f25c-4e20-85af-dde4ee6ade61",
   "metadata": {},
   "outputs": [
    {
     "data": {
      "text/plain": [
       "(18286706,)"
      ]
     },
     "execution_count": 9,
     "metadata": {},
     "output_type": "execute_result"
    }
   ],
   "source": [
    "data[\"ra\"].shape"
   ]
  },
  {
   "cell_type": "code",
   "execution_count": 10,
   "id": "5caa7ad9-b832-4bcf-8008-0626cf0761bf",
   "metadata": {},
   "outputs": [],
   "source": [
    "dc2_small = GCRCatalogs.load_catalog('cosmoDC2_v1.1.4_small')\n"
   ]
  },
  {
   "cell_type": "code",
   "execution_count": 11,
   "id": "5e97a4b0-f92e-4364-9bf2-95720700e905",
   "metadata": {},
   "outputs": [],
   "source": [
    "data = dc2_small.get_quantities(['ra', 'dec'])"
   ]
  },
  {
   "cell_type": "code",
   "execution_count": 12,
   "id": "8c82a149-911d-455f-8e7a-d1f1c335575b",
   "metadata": {},
   "outputs": [
    {
     "data": {
      "text/plain": [
       "(292781506,)"
      ]
     },
     "execution_count": 12,
     "metadata": {},
     "output_type": "execute_result"
    }
   ],
   "source": [
    "data[\"ra\"].shape"
   ]
  },
  {
   "cell_type": "code",
   "execution_count": 13,
   "id": "aea637c2-9c9f-43b3-ae3b-52f549f71bb2",
   "metadata": {},
   "outputs": [
    {
     "data": {
      "text/plain": [
       "Text(0, 0.5, 'DEC')"
      ]
     },
     "execution_count": 13,
     "metadata": {},
     "output_type": "execute_result"
    },
    {
     "data": {
      "image/png": "[encoded data removed]",
      "text/plain": [
       "<Figure size 432x288 with 1 Axes>"
      ]
     },
     "metadata": {
      "needs_background": "light"
     },
     "output_type": "display_data"
    }
   ],
   "source": [
    "fig = plt.figure()\n",
    "ax = fig.add_subplot(111)\n",
    "\n",
    "ax.hist2d(data[\"ra\"], data[\"dec\"], bins=100)\n",
    "\n",
    "ax.set_xlabel(\"RA\")\n",
    "ax.set_ylabel(\"DEC\")"
   ]
  },
  {
   "cell_type": "code",
   "execution_count": 14,
   "id": "8f35c91a-0bc4-4b2d-bf33-332d2a7691b9",
   "metadata": {},
   "outputs": [],
   "source": [
    "redcat = GCRCatalogs.load_catalog('cosmoDC2_v1.1.4_redmapper_v0.7.5')\n"
   ]
  },
  {
   "cell_type": "code",
   "execution_count": 15,
   "id": "e49b1d11-c7ec-44ee-afc4-bb8c86a54f68",
   "metadata": {},
   "outputs": [],
   "source": [
    "red_pos = redcat.get_quantities([\"ra\", \"dec\"])"
   ]
  },
  {
   "cell_type": "code",
   "execution_count": 1,
   "id": "1e854e7e-73c5-479e-9530-217d93b526c4",
   "metadata": {},
   "outputs": [
    {
     "ename": "NameError",
     "evalue": "name 'redcat' is not defined",
     "output_type": "error",
     "traceback": [
      "\u001b[0;31m---------------------------------------------------------------------------\u001b[0m",
      "\u001b[0;31mNameError\u001b[0m                                 Traceback (most recent call last)",
      "\u001b[0;32m<ipython-input-1-aaee93889951>\u001b[0m in \u001b[0;36m<module>\u001b[0;34m\u001b[0m\n\u001b[0;32m----> 1\u001b[0;31m \u001b[0mredcat\u001b[0m\u001b[0;34m.\u001b[0m\u001b[0mlist_all_quantities\u001b[0m\u001b[0;34m(\u001b[0m\u001b[0;34m)\u001b[0m\u001b[0;34m\u001b[0m\u001b[0;34m\u001b[0m\u001b[0m\n\u001b[0m",
      "\u001b[0;31mNameError\u001b[0m: name 'redcat' is not defined"
     ]
    }
   ],
   "source": [
    "redcat.list_all_quantities()"
   ]
  },
  {
   "cell_type": "code",
   "execution_count": null,
   "id": "86519efb-eb99-49e3-aed8-7a904d008596",
   "metadata": {},
   "outputs": [],
   "source": [
    "reddata = redcat.get_quantities([\"rih"
   ]
  },
  {
   "cell_type": "markdown",
   "id": "fce68b8e-bc83-475a-8109-7686c732852f",
   "metadata": {},
   "source": [
    "# RedMaPPer clusters and DC2_small"
   ]
  },
  {
   "cell_type": "code",
   "execution_count": 16,
   "id": "84d612fb-5648-46e3-8bbc-1f5064382783",
   "metadata": {},
   "outputs": [
    {
     "data": {
      "text/plain": [
       "Text(0, 0.5, 'DEC')"
      ]
     },
     "execution_count": 16,
     "metadata": {},
     "output_type": "execute_result"
    },
    {
     "data": {
      "image/png": "[encoded data removed]",
      "text/plain": [
       "<Figure size 432x288 with 1 Axes>"
      ]
     },
     "metadata": {
      "needs_background": "light"
     },
     "output_type": "display_data"
    }
   ],
   "source": [
    "fig = plt.figure()\n",
    "ax = fig.add_subplot(111)\n",
    "\n",
    "bins = (\n",
    "    np.linspace(red_pos[\"ra\"].min(), red_pos[\"ra\"].max(), 100),\n",
    "    np.linspace(red_pos[\"dec\"].min(), red_pos[\"dec\"].max(), 100),\n",
    ")\n",
    "ax.hist2d(data[\"ra\"], data[\"dec\"], bins=bins)\n",
    "ax.scatter(red_pos[\"ra\"], red_pos[\"dec\"])\n",
    "\n",
    "ax.set_xlabel(\"RA\")\n",
    "ax.set_ylabel(\"DEC\")"
   ]
  },
  {
   "cell_type": "code",
   "execution_count": 17,
   "id": "fcde2ce2-0af4-4dde-a25d-50bbb6d71bed",
   "metadata": {},
   "outputs": [
    {
     "data": {
      "text/plain": [
       "Text(0, 0.5, 'DEC')"
      ]
     },
     "execution_count": 17,
     "metadata": {},
     "output_type": "execute_result"
    },
    {
     "data": {
      "image/png": "[encoded data removed]",
      "text/plain": [
       "<Figure size 432x288 with 1 Axes>"
      ]
     },
     "metadata": {
      "needs_background": "light"
     },
     "output_type": "display_data"
    }
   ],
   "source": [
    "fig = plt.figure()\n",
    "ax = fig.add_subplot(111)\n",
    "\n",
    "#ax.hist2d(data[\"ra\"], data[\"dec\"], bins=100)\n",
    "ax.scatter(red_pos[\"ra\"], red_pos[\"dec\"])\n",
    "\n",
    "ax.set_xlabel(\"RA\")\n",
    "ax.set_ylabel(\"DEC\")"
   ]
  },
  {
   "cell_type": "markdown",
   "id": "522c7f80-6aad-43cd-b4a2-816197c248b5",
   "metadata": {},
   "source": [
    "# Looking at the catalog properties"
   ]
  },
  {
   "cell_type": "code",
   "execution_count": 1,
   "id": "c9ccda93-306b-4e58-8aa6-60fefd84a310",
   "metadata": {},
   "outputs": [],
   "source": [
    "from GCR import GCRQuery"
   ]
  },
  {
   "cell_type": "code",
   "execution_count": 2,
   "id": "5f154987-d04d-4391-b67c-9ead11010638",
   "metadata": {},
   "outputs": [
    {
     "data": {
      "text/plain": [
       "<GCR.query.GCRQuery at 0x2aaad3173a30>"
      ]
     },
     "execution_count": 2,
     "metadata": {},
     "output_type": "execute_result"
    }
   ],
   "source": [
    "GCRQuery(\"clean\")"
   ]
  },
  {
   "cell_type": "code",
   "execution_count": 18,
   "id": "4d7c04ac-5dbe-43a2-9af9-d8e1b65c0828",
   "metadata": {},
   "outputs": [],
   "source": [
    "cols_to_get = [\"galaxy_id\", \"halo_id\", \"halo_mass\", \"ra\", \"dec\",  \"mag_u_lsst\", \"mag_g_lsst\", \"mag_r_lsst\", \"mag_i_lsst\", \"mag_z_lsst\", \"mag_Y_lsst\", \"redshift\"]"
   ]
  },
  {
   "cell_type": "code",
   "execution_count": null,
   "id": "6846d50e-9f64-4f18-95ef-652b50707b58",
   "metadata": {},
   "outputs": [],
   "source": [
    "filter = \"ra > 60\""
   ]
  },
  {
   "cell_type": "code",
   "execution_count": null,
   "id": "e529167c-ceaa-4fef-a436-1ec5ee2d7926",
   "metadata": {},
   "outputs": [],
   "source": [
    "mycat = dc2_small.get_quantities(cols_to_get)"
   ]
  },
  {
   "cell_type": "code",
   "execution_count": null,
   "id": "2ff4c044-ba58-47bd-856f-b22242db8da8",
   "metadata": {},
   "outputs": [],
   "source": [
    "print(sorted(dc2_small.list_all_quantities()))\n"
   ]
  },
  {
   "cell_type": "code",
   "execution_count": 13,
   "id": "427c856d-f90f-4d13-a418-459ee6b50876",
   "metadata": {},
   "outputs": [
    {
     "data": {
      "text/plain": [
       "['SEDs/diskLuminositiesStellar:SED_8329_517:rest:dustAtlas',\n",
       " 'SEDs/spheroidLuminositiesStellar:SED_4848_300:rest:dustAtlas',\n",
       " 'baseDC2/host_halo_vx',\n",
       " 'SDSS_filters/magnitude:SDSS_i:observed:dustAtlas',\n",
       " 'SDSS_filters/diskLuminositiesStellar:SDSS_u:rest',\n",
       " 'SDSS_filters/diskLuminositiesStellar:SDSS_g:observed',\n",
       " 'SDSS_filters/magnitude:SDSS_r:rest:dustAtlas',\n",
       " 'LSST_filters/magnitude:LSST_z:rest',\n",
       " 'SEDs/diskLuminositiesStellar:SED_3184_197:rest:dustAtlas',\n",
       " 'baseDC2/host_centric_vy',\n",
       " 'SDSS_filters/diskLuminositiesStellar:SDSS_z:rest:dustAtlas',\n",
       " 'LSST_filters/spheroidLuminositiesStellar:LSST_z:rest',\n",
       " 'SDSS_filters/diskLuminositiesStellar:SDSS_z:observed',\n",
       " 'matchUp/NumberSelected',\n",
       " 'LSST_filters/diskLuminositiesStellar:LSST_u:observed:dustAtlas',\n",
       " 'SEDs/totalLuminositiesStellar:SED_4848_300:rest',\n",
       " 'baseDC2/host_halo_x',\n",
       " 'SEDs/totalLuminositiesStellar:SED_1552_381:rest:dustAtlas',\n",
       " 'baseDC2/y',\n",
       " 'step',\n",
       " 'LSST_filters/spheroidLuminositiesStellar:LSST_y:rest:dustAtlas',\n",
       " 'SDSS_filters/spheroidLuminositiesStellar:SDSS_g:rest',\n",
       " 'LSST_filters/totalLuminositiesStellar:LSST_z:rest',\n",
       " 'SEDs/spheroidLuminositiesStellar:SED_17402_2596:rest',\n",
       " 'diskVelocity',\n",
       " 'diskStarFormationRate',\n",
       " 'SDSS_filters/totalLuminositiesStellar:SDSS_u:observed',\n",
       " 'SEDs/totalLuminositiesStellar:SED_13177_1966:rest:dustAtlas',\n",
       " 'SEDs/totalLuminositiesStellar:SED_6166_382:rest:dustAtlas',\n",
       " 'emissionLines/spheroidLineLuminosity:balmerAlpha6563',\n",
       " 'diskMassStellar',\n",
       " 'otherLuminosities/totalLuminositiesStellar:V:rest',\n",
       " 'morphology/spheroidAxisRatio',\n",
       " 'SDSS_filters/totalLuminositiesStellar:SDSS_u:observed:dustAtlas',\n",
       " 'SDSS_filters/magnitude:SDSS_r:observed:dustAtlas',\n",
       " 'SEDs/totalLuminositiesStellar:SED_1246_306:rest:dustAtlas',\n",
       " 'SEDs/totalLuminositiesStellar:SED_7843_486:rest',\n",
       " 'SDSS_filters/spheroidLuminositiesStellar:SDSS_u:observed:dustAtlas',\n",
       " 'LSST_filters/magnitude:LSST_z:observed:dustAtlas',\n",
       " 'SDSS_filters/magnitude:SDSS_z:rest:dustAtlas',\n",
       " 'emissionLines/totalLineLuminosity:balmerAlpha6563',\n",
       " 'SDSS_filters/totalLuminositiesStellar:SDSS_z:observed',\n",
       " 'baseDC2/is_on_red_sequence_ri',\n",
       " 'emissionLines/totalLineLuminosity:oxygenIII4959',\n",
       " 'infallIndex',\n",
       " 'LSST_filters/totalLuminositiesStellar:LSST_z:observed:dustAtlas',\n",
       " 'LSST_filters/diskLuminositiesStellar:LSST_g:rest:dustAtlas',\n",
       " 'SDSS_filters/totalLuminositiesStellar:SDSS_z:observed:dustAtlas',\n",
       " 'SEDs/diskLuminositiesStellar:SED_4565_283:rest:dustAtlas',\n",
       " 'hostHaloTag',\n",
       " 'SEDs/totalLuminositiesStellar:SED_3381_209:rest:dustAtlas',\n",
       " 'baseDC2/upid',\n",
       " 'morphology/diskMinorAxisArcsec',\n",
       " 'SEDs/totalLuminositiesStellar:SED_17402_2596:rest:dustAtlas',\n",
       " 'SDSS_filters/totalLuminositiesStellar:SDSS_r:rest',\n",
       " 'otherLuminosities/diskLuminositiesStellar:V:rest',\n",
       " 'LSST_filters/magnitude:LSST_r:observed',\n",
       " 'SEDs/spheroidLuminositiesStellar:SED_1933_474:rest',\n",
       " 'baseDC2/restframe_extincted_sdss_abs_magg',\n",
       " 'SEDs/totalLuminositiesStellar:SED_2998_186:rest:dustAtlas',\n",
       " 'SEDs/diskLuminositiesStellar:SED_17402_2596:rest',\n",
       " 'SEDs/totalLuminositiesStellar:SED_11467_1710:rest:dustAtlas',\n",
       " 'LSST_filters/spheroidLuminositiesStellar:LSST_r:rest',\n",
       " 'LSST_filters/diskLuminositiesStellar:LSST_y:rest',\n",
       " 'SDSS_filters/magnitude:SDSS_g:observed:dustAtlas',\n",
       " 'otherLuminosities/totalLuminositiesStellar:B:rest:dustAtlas',\n",
       " 'SEDs/totalLuminositiesStellar:SED_5806_360:rest:dustAtlas',\n",
       " 'peculiarVelocity',\n",
       " 'emissionLines/spheroidLineLuminosity:oxygenIII5007',\n",
       " 'SEDs/totalLuminositiesStellar:SED_9395_583:rest',\n",
       " 'LSST_filters/totalLuminositiesStellar:LSST_u:rest',\n",
       " 'isCentral',\n",
       " 'SEDs/diskLuminositiesStellar:SED_4848_300:rest',\n",
       " 'SEDs/diskLuminositiesStellar:SED_2998_186:rest:dustAtlas',\n",
       " 'diskAbundancesStellarMetals',\n",
       " 'SEDs/spheroidLuminositiesStellar:SED_11467_1710:rest:dustAtlas',\n",
       " 'SEDs/spheroidLuminositiesStellar:SED_8846_549:rest:dustAtlas',\n",
       " 'SDSS_filters/magnitude:SDSS_g:rest',\n",
       " 'baseDC2/target_halo_z',\n",
       " 'SEDs/totalLuminositiesStellar:SED_4299_266:rest:dustAtlas',\n",
       " 'baseDC2/host_centric_z',\n",
       " 'SDSS_filters/diskLuminositiesStellar:SDSS_r:observed:dustAtlas',\n",
       " 'SDSS_filters/diskLuminositiesStellar:SDSS_g:rest:dustAtlas',\n",
       " 'SEDs/spheroidLuminositiesStellar:SED_5148_319:rest:dustAtlas',\n",
       " 'emissionLines/diskLineLuminosity:nitrogenII6584',\n",
       " 'SEDs/totalLuminositiesStellar:SED_11467_1710:rest',\n",
       " 'SDSS_filters/diskLuminositiesStellar:SDSS_i:rest',\n",
       " 'SDSS_filters/magnitude:SDSS_z:rest',\n",
       " 'morphology/totalEllipticity',\n",
       " 'LSST_filters/totalLuminositiesStellar:LSST_g:rest',\n",
       " 'SEDs/spheroidLuminositiesStellar:SED_2998_186:rest:dustAtlas',\n",
       " 'otherLuminosities/diskLuminositiesStellar:OxygenContinuum:rest',\n",
       " 'SEDs/spheroidLuminositiesStellar:SED_13177_1966:rest:dustAtlas',\n",
       " 'SEDs/spheroidLuminositiesStellar:SED_15143_2259:rest',\n",
       " 'SEDs/totalLuminositiesStellar:SED_5806_360:rest',\n",
       " 'LSST_filters/diskLuminositiesStellar:LSST_z:observed:dustAtlas',\n",
       " 'baseDC2/galaxy_id',\n",
       " 'SEDs/diskLuminositiesStellar:SED_2407_591:rest:dustAtlas',\n",
       " 'LSST_filters/diskLuminositiesStellar:LSST_i:observed:dustAtlas',\n",
       " 'LSST_filters/diskLuminositiesStellar:LSST_r:rest:dustAtlas',\n",
       " 'LSST_filters/spheroidLuminositiesStellar:LSST_r:observed:dustAtlas',\n",
       " 'SEDs/diskLuminositiesStellar:SED_17402_2596:rest:dustAtlas',\n",
       " 'SEDs/diskLuminositiesStellar:SED_9978_1489:rest',\n",
       " 'totalVelocity',\n",
       " 'otherLuminosities/spheroidLuminositiesStellar:B:rest:dustAtlas',\n",
       " 'spheroidAbundancesStellarMetals',\n",
       " 'LSST_filters/diskLuminositiesStellar:LSST_u:rest',\n",
       " 'LSST_filters/magnitude:LSST_u:observed:dustAtlas',\n",
       " 'SEDs/spheroidLuminositiesStellar:SED_9978_1489:rest',\n",
       " 'otherLuminosities/diskLuminositiesStellar:HeliumContinuum:rest:dustAtlas',\n",
       " 'SDSS_filters/magnitude:SDSS_z:observed:dustAtlas',\n",
       " 'emissionLines/diskLineLuminosity:balmerBeta4861',\n",
       " 'SEDs/totalLuminositiesStellar:SED_1000_246:rest',\n",
       " 'LSST_filters/totalLuminositiesStellar:LSST_u:observed:dustAtlas',\n",
       " 'LSST_filters/magnitude:LSST_r:rest:dustAtlas',\n",
       " 'baseDC2/z',\n",
       " 'emissionLines/diskLineLuminosity:sulfurII6731',\n",
       " 'SDSS_filters/diskLuminositiesStellar:SDSS_z:rest',\n",
       " 'SEDs/spheroidLuminositiesStellar:SED_3590_222:rest:dustAtlas',\n",
       " 'SEDs/diskLuminositiesStellar:SED_1000_246:rest',\n",
       " 'SEDs/totalLuminositiesStellar:SED_4848_300:rest:dustAtlas',\n",
       " 'baseDC2/is_on_red_sequence_gr',\n",
       " 'SEDs/spheroidLuminositiesStellar:SED_17402_2596:rest:dustAtlas',\n",
       " 'emissionLines/spheroidLineLuminosity:nitrogenII6584',\n",
       " 'LSST_filters/spheroidLuminositiesStellar:LSST_y:observed',\n",
       " 'LSST_filters/spheroidLuminositiesStellar:LSST_z:observed:dustAtlas',\n",
       " 'SEDs/diskLuminositiesStellar:SED_2407_591:rest',\n",
       " 'morphology/positionAngle',\n",
       " 'SDSS_filters/magnitude:SDSS_g:rest:dustAtlas',\n",
       " 'LSST_filters/diskLuminositiesStellar:LSST_z:rest:dustAtlas',\n",
       " 'baseDC2/host_halo_y',\n",
       " 'SEDs/spheroidLuminositiesStellar:SED_5467_339:rest:dustAtlas',\n",
       " 'SEDs/diskLuminositiesStellar:SED_4048_251:rest:dustAtlas',\n",
       " 'LSST_filters/diskLuminositiesStellar:LSST_g:rest',\n",
       " 'spinSpin',\n",
       " 'LSST_filters/totalLuminositiesStellar:LSST_i:observed:dustAtlas',\n",
       " 'SEDs/diskLuminositiesStellar:SED_6954_431:rest:dustAtlas',\n",
       " 'blackHoleAccretionRate',\n",
       " 'LSST_filters/spheroidLuminositiesStellar:LSST_u:observed',\n",
       " 'SEDs/diskLuminositiesStellar:SED_4848_300:rest:dustAtlas',\n",
       " 'baseDC2/host_halo_vz',\n",
       " 'SDSS_filters/totalLuminositiesStellar:SDSS_i:rest:dustAtlas',\n",
       " 'SEDs/spheroidLuminositiesStellar:SED_7843_486:rest',\n",
       " 'SEDs/diskLuminositiesStellar:SED_13177_1966:rest',\n",
       " 'SDSS_filters/magnitude:SDSS_i:rest:dustAtlas',\n",
       " 'SEDs/spheroidLuminositiesStellar:SED_4565_283:rest:dustAtlas',\n",
       " 'SDSS_filters/diskLuminositiesStellar:SDSS_r:rest:dustAtlas',\n",
       " 'baseDC2/source_halo_mvir',\n",
       " 'SEDs/spheroidLuminositiesStellar:SED_3381_209:rest',\n",
       " 'emissionLines/diskLineLuminosity:oxygenII3726',\n",
       " 'SDSS_filters/magnitude:SDSS_i:rest',\n",
       " 'SDSS_filters/spheroidLuminositiesStellar:SDSS_i:rest:dustAtlas',\n",
       " 'LSST_filters/magnitude:LSST_y:observed',\n",
       " 'SEDs/diskLuminositiesStellar:SED_1246_306:rest:dustAtlas',\n",
       " 'otherLuminosities/totalLuminositiesStellar:HeliumContinuum:rest:dustAtlas',\n",
       " 'otherLuminosities/spheroidLuminositiesStellar:OxygenContinuum:rest:dustAtlas',\n",
       " 'otherLuminosities/totalLuminositiesStellar:B:rest',\n",
       " 'LSST_filters/spheroidLuminositiesStellar:LSST_z:rest:dustAtlas',\n",
       " 'SEDs/diskLuminositiesStellar:SED_7385_458:rest',\n",
       " 'SDSS_filters/totalLuminositiesStellar:SDSS_r:rest:dustAtlas',\n",
       " 'LSST_filters/spheroidLuminositiesStellar:LSST_u:rest',\n",
       " 'shear1',\n",
       " 'LSST_filters/magnitude:LSST_u:rest',\n",
       " 'SEDs/totalLuminositiesStellar:SED_15143_2259:rest:dustAtlas',\n",
       " 'otherLuminosities/totalLuminositiesStellar:HeliumContinuum:rest',\n",
       " 'LSST_filters/diskLuminositiesStellar:LSST_z:rest',\n",
       " 'LSST_filters/totalLuminositiesStellar:LSST_z:observed',\n",
       " 'SEDs/totalLuminositiesStellar:SED_8846_549:rest',\n",
       " 'SEDs/spheroidLuminositiesStellar:SED_2407_591:rest',\n",
       " 'SEDs/diskLuminositiesStellar:SED_11467_1710:rest:dustAtlas',\n",
       " 'otherLuminosities/spheroidLuminositiesStellar:V:rest',\n",
       " 'SEDs/totalLuminositiesStellar:SED_4048_251:rest',\n",
       " 'SEDs/totalLuminositiesStellar:SED_4299_266:rest',\n",
       " 'LSST_filters/magnitude:LSST_g:observed',\n",
       " 'SEDs/totalLuminositiesStellar:SED_4565_283:rest:dustAtlas',\n",
       " 'baseDC2/lightcone_replication',\n",
       " 'SEDs/diskLuminositiesStellar:SED_8329_517:rest',\n",
       " 'baseDC2/target_halo_vy',\n",
       " 'SDSS_filters/spheroidLuminositiesStellar:SDSS_z:rest:dustAtlas',\n",
       " 'SDSS_filters/spheroidLuminositiesStellar:SDSS_r:rest:dustAtlas',\n",
       " 'baseDC2/target_halo_x',\n",
       " 'otherLuminosities/spheroidLuminositiesStellar:OxygenContinuum:rest',\n",
       " 'SDSS_filters/totalLuminositiesStellar:SDSS_g:observed:dustAtlas',\n",
       " 'emissionLines/diskLineLuminosity:balmerAlpha6563',\n",
       " 'baseDC2/host_centric_vx',\n",
       " 'SEDs/spheroidLuminositiesStellar:SED_2998_186:rest',\n",
       " 'baseDC2/sm',\n",
       " 'SEDs/spheroidLuminositiesStellar:SED_1000_246:rest',\n",
       " 'baseDC2/host_centric_vz',\n",
       " 'SEDs/totalLuminositiesStellar:SED_8329_517:rest:dustAtlas',\n",
       " 'x',\n",
       " 'emissionLines/totalLineLuminosity:nitrogenII6584',\n",
       " 'LSST_filters/diskLuminositiesStellar:LSST_u:observed',\n",
       " 'baseDC2/sfr',\n",
       " 'SEDs/spheroidLuminositiesStellar:SED_4299_266:rest',\n",
       " 'SDSS_filters/spheroidLuminositiesStellar:SDSS_g:observed:dustAtlas',\n",
       " 'SEDs/spheroidLuminositiesStellar:SED_9978_1489:rest:dustAtlas',\n",
       " 'SEDs/spheroidLuminositiesStellar:SED_6954_431:rest:dustAtlas',\n",
       " 'emissionLines/totalLineLuminosity:sulfurII6716',\n",
       " 'SEDs/totalLuminositiesStellar:SED_15143_2259:rest',\n",
       " 'morphology/spheroidSersicIndex',\n",
       " 'SEDs/totalLuminositiesStellar:SED_5148_319:rest',\n",
       " 'LSST_filters/diskLuminositiesStellar:LSST_z:observed',\n",
       " 'SEDs/diskLuminositiesStellar:SED_13177_1966:rest:dustAtlas',\n",
       " 'matchUp/luminosityFactor',\n",
       " 'SDSS_filters/diskLuminositiesStellar:SDSS_i:rest:dustAtlas',\n",
       " 'morphology/diskHalfLightRadiusArcsec',\n",
       " 'SDSS_filters/spheroidLuminositiesStellar:SDSS_r:observed:dustAtlas',\n",
       " 'SDSS_filters/totalLuminositiesStellar:SDSS_i:rest',\n",
       " 'LSST_filters/totalLuminositiesStellar:LSST_r:rest:dustAtlas',\n",
       " 'SEDs/spheroidLuminositiesStellar:SED_4299_266:rest:dustAtlas',\n",
       " 'SEDs/totalLuminositiesStellar:SED_2407_591:rest',\n",
       " 'SEDs/diskLuminositiesStellar:SED_3812_236:rest',\n",
       " 'morphology/totalAxisRatio',\n",
       " 'SDSS_filters/diskLuminositiesStellar:SDSS_i:observed',\n",
       " 'SDSS_filters/spheroidLuminositiesStellar:SDSS_r:rest',\n",
       " 'LSST_filters/totalLuminositiesStellar:LSST_y:rest',\n",
       " 'LSST_filters/diskLuminositiesStellar:LSST_g:observed',\n",
       " 'LSST_filters/diskLuminositiesStellar:LSST_y:observed',\n",
       " 'otherLuminosities/diskLuminositiesStellar:V:rest:dustAtlas',\n",
       " 'magnification',\n",
       " 'SEDs/spheroidLuminositiesStellar:SED_9395_583:rest:dustAtlas',\n",
       " 'SEDs/diskLuminositiesStellar:SED_4048_251:rest',\n",
       " 'SEDs/diskLuminositiesStellar:SED_3381_209:rest',\n",
       " 'SEDs/diskLuminositiesStellar:SED_4299_266:rest',\n",
       " 'matchUp/GalacticusNodeIndex',\n",
       " 'vy',\n",
       " 'SEDs/spheroidLuminositiesStellar:SED_4565_283:rest',\n",
       " 'baseDC2/lightcone_id',\n",
       " 'LSST_filters/totalLuminositiesStellar:LSST_i:observed',\n",
       " 'SEDs/spheroidLuminositiesStellar:SED_3812_236:rest:dustAtlas',\n",
       " 'SEDs/diskLuminositiesStellar:SED_6166_382:rest',\n",
       " 'morphology/diskEllipticity',\n",
       " 'SDSS_filters/magnitude:SDSS_u:rest',\n",
       " 'LSST_filters/magnitude:LSST_z:observed',\n",
       " 'LSST_filters/totalLuminositiesStellar:LSST_y:observed:dustAtlas',\n",
       " 'SDSS_filters/magnitude:SDSS_i:observed',\n",
       " 'SEDs/spheroidLuminositiesStellar:SED_1933_474:rest:dustAtlas',\n",
       " 'SEDs/spheroidLuminositiesStellar:SED_3184_197:rest:dustAtlas',\n",
       " 'SEDs/spheroidLuminositiesStellar:SED_2407_591:rest:dustAtlas',\n",
       " 'SEDs/totalLuminositiesStellar:SED_1246_306:rest',\n",
       " 'SEDs/diskLuminositiesStellar:SED_9395_583:rest:dustAtlas',\n",
       " 'SEDs/diskLuminositiesStellar:SED_1933_474:rest:dustAtlas',\n",
       " 'baseDC2/restframe_extincted_sdss_gr',\n",
       " 'baseDC2/host_halo_vy',\n",
       " 'matchUp/libraryIndex',\n",
       " 'LSST_filters/diskLuminositiesStellar:LSST_y:observed:dustAtlas',\n",
       " 'SDSS_filters/spheroidLuminositiesStellar:SDSS_u:rest:dustAtlas',\n",
       " 'morphology/spheroidHalfLightRadiusArcsec',\n",
       " 'SEDs/totalLuminositiesStellar:SED_1933_474:rest',\n",
       " 'SEDs/diskLuminositiesStellar:SED_8846_549:rest',\n",
       " 'LSST_filters/totalLuminositiesStellar:LSST_y:observed',\n",
       " 'LSST_filters/magnitude:LSST_i:rest',\n",
       " 'SEDs/diskLuminositiesStellar:SED_9978_1489:rest:dustAtlas',\n",
       " 'SDSS_filters/magnitude:SDSS_z:observed',\n",
       " 'SDSS_filters/diskLuminositiesStellar:SDSS_i:observed:dustAtlas',\n",
       " 'SDSS_filters/diskLuminositiesStellar:SDSS_u:observed:dustAtlas',\n",
       " 'morphology/spheroidMajorAxisArcsec',\n",
       " 'SEDs/diskLuminositiesStellar:SED_7385_458:rest:dustAtlas',\n",
       " 'baseDC2/sfr_percentile',\n",
       " 'emissionLines/totalLineLuminosity:oxygenII3729',\n",
       " 'otherLuminosities/diskLuminositiesStellar:OxygenContinuum:rest:dustAtlas',\n",
       " 'LSST_filters/totalLuminositiesStellar:LSST_r:rest',\n",
       " 'SDSS_filters/magnitude:SDSS_g:observed',\n",
       " 'SDSS_filters/totalLuminositiesStellar:SDSS_g:observed',\n",
       " 'SEDs/diskLuminositiesStellar:SED_5806_360:rest:dustAtlas',\n",
       " 'baseDC2/restframe_extincted_sdss_abs_magr',\n",
       " 'baseDC2/source_halo_id',\n",
       " 'baseDC2/vmax',\n",
       " 'SEDs/diskLuminositiesStellar:SED_5148_319:rest',\n",
       " 'SDSS_filters/spheroidLuminositiesStellar:SDSS_g:observed',\n",
       " 'SEDs/spheroidLuminositiesStellar:SED_8329_517:rest',\n",
       " 'convergence',\n",
       " 'SEDs/diskLuminositiesStellar:SED_3184_197:rest',\n",
       " 'SEDs/diskLuminositiesStellar:SED_7843_486:rest:dustAtlas',\n",
       " 'SEDs/spheroidLuminositiesStellar:SED_7843_486:rest:dustAtlas',\n",
       " 'SEDs/diskLuminositiesStellar:SED_6954_431:rest',\n",
       " 'SEDs/spheroidLuminositiesStellar:SED_6954_431:rest',\n",
       " 'morphology/diskEllipticity1',\n",
       " 'morphology/totalSersicIndex',\n",
       " 'SEDs/spheroidLuminositiesStellar:SED_1000_246:rest:dustAtlas',\n",
       " 'emissionLines/spheroidLineLuminosity:sulfurII6731',\n",
       " 'LSST_filters/magnitude:LSST_g:rest',\n",
       " 'morphology/diskEllipticity2',\n",
       " 'SEDs/spheroidLuminositiesStellar:SED_7385_458:rest:dustAtlas',\n",
       " 'otherLuminosities/totalLuminositiesStellar:Lyc:rest:dustAtlas',\n",
       " 'SDSS_filters/spheroidLuminositiesStellar:SDSS_z:rest',\n",
       " 'emissionLines/totalLineLuminosity:oxygenIII5007',\n",
       " 'LSST_filters/magnitude:LSST_y:rest',\n",
       " 'totalMassStellar',\n",
       " 'SEDs/totalLuminositiesStellar:SED_4565_283:rest',\n",
       " 'baseDC2/obs_sfr',\n",
       " 'LSST_filters/magnitude:LSST_i:observed:dustAtlas',\n",
       " 'otherLuminosities/diskLuminositiesStellar:HeliumContinuum:rest',\n",
       " 'SEDs/spheroidLuminositiesStellar:SED_5467_339:rest',\n",
       " 'baseDC2/mvir',\n",
       " 'SEDs/totalLuminositiesStellar:SED_2998_186:rest',\n",
       " 'LSST_filters/diskLuminositiesStellar:LSST_r:rest',\n",
       " 'otherLuminosities/spheroidLuminositiesStellar:Lyc:rest',\n",
       " 'SDSS_filters/spheroidLuminositiesStellar:SDSS_i:observed:dustAtlas',\n",
       " 'LSST_filters/diskLuminositiesStellar:LSST_i:observed',\n",
       " 'SEDs/diskLuminositiesStellar:SED_11467_1710:rest',\n",
       " 'SDSS_filters/totalLuminositiesStellar:SDSS_u:rest:dustAtlas',\n",
       " 'SEDs/totalLuminositiesStellar:SED_3812_236:rest:dustAtlas',\n",
       " 'SEDs/diskLuminositiesStellar:SED_6548_406:rest',\n",
       " 'baseDC2/restframe_extincted_sdss_ri',\n",
       " 'SDSS_filters/diskLuminositiesStellar:SDSS_z:observed:dustAtlas',\n",
       " 'SEDs/diskLuminositiesStellar:SED_5806_360:rest',\n",
       " 'baseDC2/vz',\n",
       " 'LSST_filters/spheroidLuminositiesStellar:LSST_z:observed',\n",
       " 'SEDs/totalLuminositiesStellar:SED_7843_486:rest:dustAtlas',\n",
       " 'otherLuminosities/totalLuminositiesStellar:V:rest:dustAtlas',\n",
       " 'SEDs/spheroidLuminositiesStellar:SED_7385_458:rest',\n",
       " 'SDSS_filters/totalLuminositiesStellar:SDSS_g:rest:dustAtlas',\n",
       " 'SDSS_filters/totalLuminositiesStellar:SDSS_r:observed:dustAtlas',\n",
       " 'LSST_filters/magnitude:LSST_i:observed',\n",
       " 'SDSS_filters/diskLuminositiesStellar:SDSS_u:observed',\n",
       " 'morphology/diskMajorAxisArcsec',\n",
       " 'SDSS_filters/magnitude:SDSS_u:observed',\n",
       " 'blackHoleEddingtonRatio',\n",
       " 'baseDC2/target_halo_mass',\n",
       " 'morphology/spheroidEllipticity2',\n",
       " 'baseDC2/obs_sfr_percentile',\n",
       " 'baseDC2/host_centric_y',\n",
       " 'SEDs/spheroidLuminositiesStellar:SED_8846_549:rest',\n",
       " 'SEDs/totalLuminositiesStellar:SED_6954_431:rest:dustAtlas',\n",
       " 'SDSS_filters/diskLuminositiesStellar:SDSS_r:rest',\n",
       " 'SEDs/totalLuminositiesStellar:SED_2407_591:rest:dustAtlas',\n",
       " 'SEDs/diskLuminositiesStellar:SED_1246_306:rest',\n",
       " 'baseDC2/ra',\n",
       " 'otherLuminosities/spheroidLuminositiesStellar:Lyc:rest:dustAtlas',\n",
       " 'baseDC2/target_halo_vz',\n",
       " 'morphology/diskSersicIndex',\n",
       " 'baseDC2/x',\n",
       " 'LSST_filters/spheroidLuminositiesStellar:LSST_g:observed',\n",
       " 'LSST_filters/spheroidLuminositiesStellar:LSST_y:rest',\n",
       " 'LSST_filters/spheroidLuminositiesStellar:LSST_i:rest',\n",
       " 'SEDs/spheroidLuminositiesStellar:SED_9395_583:rest',\n",
       " 'y',\n",
       " 'SEDs/diskLuminositiesStellar:SED_4299_266:rest:dustAtlas',\n",
       " 'morphology/spheroidMinorAxisArcsec',\n",
       " 'vz',\n",
       " 'spheroidVelocity',\n",
       " 'lightcone_replication',\n",
       " 'SEDs/totalLuminositiesStellar:SED_7385_458:rest',\n",
       " 'SEDs/totalLuminositiesStellar:SED_3184_197:rest:dustAtlas',\n",
       " 'SEDs/totalLuminositiesStellar:SED_4048_251:rest:dustAtlas',\n",
       " 'emissionLines/spheroidLineLuminosity:oxygenII3729',\n",
       " 'baseDC2/redshift',\n",
       " 'baseDC2/target_halo_vx',\n",
       " 'emissionLines/diskLineLuminosity:sulfurII6716',\n",
       " 'emissionLines/totalLineLuminosity:balmerBeta4861',\n",
       " 'LSST_filters/spheroidLuminositiesStellar:LSST_r:observed',\n",
       " 'morphology/diskHalfLightRadius',\n",
       " 'SEDs/diskLuminositiesStellar:SED_9395_583:rest',\n",
       " 'baseDC2/vy',\n",
       " 'baseDC2/target_halo_id',\n",
       " 'morphology/spheroidEllipticity1',\n",
       " 'LSST_filters/magnitude:LSST_u:rest:dustAtlas',\n",
       " 'SDSS_filters/diskLuminositiesStellar:SDSS_r:observed',\n",
       " 'LSST_filters/totalLuminositiesStellar:LSST_y:rest:dustAtlas',\n",
       " 'SEDs/spheroidLuminositiesStellar:SED_1246_306:rest',\n",
       " 'LSST_filters/magnitude:LSST_r:observed:dustAtlas',\n",
       " 'dec',\n",
       " 'spheroidStarFormationRate',\n",
       " 'LSST_filters/spheroidLuminositiesStellar:LSST_u:rest:dustAtlas',\n",
       " 'SDSS_filters/spheroidLuminositiesStellar:SDSS_r:observed',\n",
       " 'LSST_filters/spheroidLuminositiesStellar:LSST_r:rest:dustAtlas',\n",
       " 'SDSS_filters/totalLuminositiesStellar:SDSS_r:observed',\n",
       " 'SEDs/spheroidLuminositiesStellar:SED_4048_251:rest',\n",
       " 'SEDs/diskLuminositiesStellar:SED_15143_2259:rest:dustAtlas',\n",
       " 'SEDs/diskLuminositiesStellar:SED_8846_549:rest:dustAtlas',\n",
       " 'emissionLines/diskLineLuminosity:oxygenIII5007',\n",
       " 'SEDs/diskLuminositiesStellar:SED_3590_222:rest:dustAtlas',\n",
       " 'SDSS_filters/spheroidLuminositiesStellar:SDSS_u:observed',\n",
       " 'SDSS_filters/spheroidLuminositiesStellar:SDSS_g:rest:dustAtlas',\n",
       " 'baseDC2/restframe_extincted_sdss_abs_magi',\n",
       " 'LSST_filters/diskLuminositiesStellar:LSST_u:rest:dustAtlas',\n",
       " 'LSST_filters/magnitude:LSST_r:rest',\n",
       " 'SEDs/diskLuminositiesStellar:SED_2998_186:rest',\n",
       " 'LSST_filters/magnitude:LSST_g:observed:dustAtlas',\n",
       " 'SDSS_filters/totalLuminositiesStellar:SDSS_z:rest:dustAtlas',\n",
       " 'SEDs/totalLuminositiesStellar:SED_6548_406:rest:dustAtlas',\n",
       " 'galaxyID',\n",
       " 'SEDs/totalLuminositiesStellar:SED_8329_517:rest',\n",
       " 'emissionLines/spheroidLineLuminosity:oxygenII3726',\n",
       " 'ra_true',\n",
       " 'SEDs/totalLuminositiesStellar:SED_13177_1966:rest',\n",
       " 'SDSS_filters/spheroidLuminositiesStellar:SDSS_z:observed',\n",
       " 'emissionLines/spheroidLineLuminosity:balmerBeta4861',\n",
       " 'SEDs/totalLuminositiesStellar:SED_6166_382:rest',\n",
       " 'SEDs/totalLuminositiesStellar:SED_6954_431:rest',\n",
       " 'SEDs/spheroidLuminositiesStellar:SED_5806_360:rest:dustAtlas',\n",
       " 'baseDC2/lightcone_rotation',\n",
       " 'SEDs/totalLuminositiesStellar:SED_5148_319:rest:dustAtlas',\n",
       " 'LSST_filters/magnitude:LSST_y:observed:dustAtlas',\n",
       " 'LSST_filters/spheroidLuminositiesStellar:LSST_u:observed:dustAtlas',\n",
       " 'LSST_filters/spheroidLuminositiesStellar:LSST_g:observed:dustAtlas',\n",
       " 'LSST_filters/totalLuminositiesStellar:LSST_u:rest:dustAtlas',\n",
       " 'SDSS_filters/totalLuminositiesStellar:SDSS_u:rest',\n",
       " 'SEDs/totalLuminositiesStellar:SED_6548_406:rest',\n",
       " 'baseDC2/target_halo_y',\n",
       " 'SDSS_filters/magnitude:SDSS_r:rest',\n",
       " 'LSST_filters/spheroidLuminositiesStellar:LSST_g:rest:dustAtlas',\n",
       " 'SEDs/spheroidLuminositiesStellar:SED_1552_381:rest:dustAtlas',\n",
       " 'SEDs/totalLuminositiesStellar:SED_9395_583:rest:dustAtlas',\n",
       " 'baseDC2/target_halo_redshift',\n",
       " 'SEDs/diskLuminositiesStellar:SED_4565_283:rest',\n",
       " 'otherLuminosities/totalLuminositiesStellar:Lyc:rest',\n",
       " 'SDSS_filters/totalLuminositiesStellar:SDSS_z:rest',\n",
       " 'emissionLines/spheroidLineLuminosity:sulfurII6716',\n",
       " 'baseDC2/halo_id',\n",
       " 'LSST_filters/diskLuminositiesStellar:LSST_g:observed:dustAtlas',\n",
       " 'totalAbundancesStellarMetals',\n",
       " 'SDSS_filters/magnitude:SDSS_u:rest:dustAtlas',\n",
       " 'SEDs/diskLuminositiesStellar:SED_5467_339:rest',\n",
       " 'SEDs/diskLuminositiesStellar:SED_6548_406:rest:dustAtlas',\n",
       " 'LSST_filters/magnitude:LSST_z:rest:dustAtlas',\n",
       " 'SEDs/spheroidLuminositiesStellar:SED_3184_197:rest',\n",
       " 'SEDs/diskLuminositiesStellar:SED_3381_209:rest:dustAtlas',\n",
       " 'SEDs/totalLuminositiesStellar:SED_3184_197:rest',\n",
       " 'LSST_filters/spheroidLuminositiesStellar:LSST_y:observed:dustAtlas',\n",
       " 'SEDs/diskLuminositiesStellar:SED_7843_486:rest',\n",
       " 'SEDs/totalLuminositiesStellar:SED_5467_339:rest',\n",
       " 'SEDs/totalLuminositiesStellar:SED_9978_1489:rest:dustAtlas',\n",
       " 'otherLuminosities/totalLuminositiesStellar:OxygenContinuum:rest:dustAtlas',\n",
       " 'LSST_filters/magnitude:LSST_g:rest:dustAtlas',\n",
       " 'SEDs/totalLuminositiesStellar:SED_7385_458:rest:dustAtlas',\n",
       " 'morphology/totalEllipticity1',\n",
       " 'LSST_filters/diskLuminositiesStellar:LSST_y:rest:dustAtlas',\n",
       " 'SEDs/diskLuminositiesStellar:SED_15143_2259:rest',\n",
       " 'SEDs/diskLuminositiesStellar:SED_5467_339:rest:dustAtlas',\n",
       " 'SEDs/spheroidLuminositiesStellar:SED_5148_319:rest',\n",
       " 'otherLuminosities/spheroidLuminositiesStellar:HeliumContinuum:rest',\n",
       " 'SEDs/totalLuminositiesStellar:SED_1000_246:rest:dustAtlas',\n",
       " 'LSST_filters/spheroidLuminositiesStellar:LSST_i:observed',\n",
       " 'vx',\n",
       " 'redshift',\n",
       " 'SEDs/totalLuminositiesStellar:SED_9978_1489:rest',\n",
       " 'emissionLines/spheroidLineLuminosity:oxygenIII4959',\n",
       " 'SDSS_filters/totalLuminositiesStellar:SDSS_g:rest',\n",
       " 'LSST_filters/magnitude:LSST_i:rest:dustAtlas',\n",
       " 'LSST_filters/diskLuminositiesStellar:LSST_i:rest',\n",
       " 'LSST_filters/magnitude:LSST_u:observed',\n",
       " 'SEDs/diskLuminositiesStellar:SED_6166_382:rest:dustAtlas',\n",
       " 'dec_true',\n",
       " 'matchUp/dustFactor',\n",
       " 'LSST_filters/spheroidLuminositiesStellar:LSST_i:rest:dustAtlas',\n",
       " 'otherLuminosities/diskLuminositiesStellar:Lyc:rest:dustAtlas',\n",
       " 'SDSS_filters/diskLuminositiesStellar:SDSS_g:rest',\n",
       " 'LSST_filters/totalLuminositiesStellar:LSST_g:observed',\n",
       " 'SEDs/spheroidLuminositiesStellar:SED_6166_382:rest',\n",
       " 'SDSS_filters/totalLuminositiesStellar:SDSS_i:observed',\n",
       " 'baseDC2/obs_sm',\n",
       " 'shear2',\n",
       " 'emissionLines/totalLineLuminosity:sulfurII6731',\n",
       " 'SEDs/totalLuminositiesStellar:SED_3381_209:rest',\n",
       " 'SEDs/diskLuminositiesStellar:SED_3812_236:rest:dustAtlas',\n",
       " 'SDSS_filters/spheroidLuminositiesStellar:SDSS_i:rest',\n",
       " 'SEDs/diskLuminositiesStellar:SED_1552_381:rest:dustAtlas',\n",
       " 'SDSS_filters/diskLuminositiesStellar:SDSS_u:rest:dustAtlas',\n",
       " 'baseDC2/host_halo_mvir',\n",
       " 'SDSS_filters/magnitude:SDSS_r:observed',\n",
       " 'otherLuminosities/diskLuminositiesStellar:B:rest:dustAtlas',\n",
       " 'emissionLines/diskLineLuminosity:oxygenII3729',\n",
       " 'redshiftHubble',\n",
       " 'emissionLines/totalLineLuminosity:oxygenII3726',\n",
       " 'SEDs/spheroidLuminositiesStellar:SED_3812_236:rest',\n",
       " 'baseDC2/vx',\n",
       " 'lightcone_rotation',\n",
       " 'SEDs/diskLuminositiesStellar:SED_5148_319:rest:dustAtlas',\n",
       " 'baseDC2/host_centric_x',\n",
       " 'SEDs/spheroidLuminositiesStellar:SED_4848_300:rest',\n",
       " 'otherLuminosities/diskLuminositiesStellar:Lyc:rest',\n",
       " 'LSST_filters/totalLuminositiesStellar:LSST_u:observed',\n",
       " 'LSST_filters/spheroidLuminositiesStellar:LSST_g:rest',\n",
       " 'LSST_filters/totalLuminositiesStellar:LSST_i:rest:dustAtlas',\n",
       " 'SEDs/totalLuminositiesStellar:SED_8846_549:rest:dustAtlas',\n",
       " 'otherLuminosities/spheroidLuminositiesStellar:V:rest:dustAtlas',\n",
       " 'SEDs/spheroidLuminositiesStellar:SED_3381_209:rest:dustAtlas',\n",
       " 'SEDs/spheroidLuminositiesStellar:SED_1552_381:rest',\n",
       " 'morphology/totalEllipticity2',\n",
       " 'otherLuminosities/spheroidLuminositiesStellar:B:rest',\n",
       " 'SEDs/totalLuminositiesStellar:SED_1933_474:rest:dustAtlas',\n",
       " 'LSST_filters/diskLuminositiesStellar:LSST_r:observed:dustAtlas',\n",
       " 'SEDs/spheroidLuminositiesStellar:SED_15143_2259:rest:dustAtlas',\n",
       " 'SDSS_filters/magnitude:SDSS_u:observed:dustAtlas',\n",
       " 'LSST_filters/diskLuminositiesStellar:LSST_r:observed',\n",
       " 'z',\n",
       " 'SEDs/diskLuminositiesStellar:SED_1552_381:rest',\n",
       " 'LSST_filters/totalLuminositiesStellar:LSST_r:observed',\n",
       " 'SEDs/spheroidLuminositiesStellar:SED_1246_306:rest:dustAtlas',\n",
       " 'SEDs/spheroidLuminositiesStellar:SED_6548_406:rest',\n",
       " 'baseDC2/target_halo_fof_halo_id',\n",
       " 'SEDs/diskLuminositiesStellar:SED_3590_222:rest',\n",
       " 'SDSS_filters/totalLuminositiesStellar:SDSS_i:observed:dustAtlas',\n",
       " 'LSST_filters/magnitude:LSST_y:rest:dustAtlas',\n",
       " 'SEDs/spheroidLuminositiesStellar:SED_11467_1710:rest',\n",
       " 'LSST_filters/totalLuminositiesStellar:LSST_g:observed:dustAtlas',\n",
       " 'SEDs/spheroidLuminositiesStellar:SED_3590_222:rest',\n",
       " 'otherLuminosities/diskLuminositiesStellar:B:rest',\n",
       " 'hostHaloMass',\n",
       " 'SEDs/totalLuminositiesStellar:SED_3812_236:rest',\n",
       " 'baseDC2/dec',\n",
       " 'SEDs/spheroidLuminositiesStellar:SED_6166_382:rest:dustAtlas',\n",
       " 'SEDs/spheroidLuminositiesStellar:SED_4048_251:rest:dustAtlas',\n",
       " 'SEDs/totalLuminositiesStellar:SED_5467_339:rest:dustAtlas',\n",
       " 'SEDs/spheroidLuminositiesStellar:SED_5806_360:rest',\n",
       " 'baseDC2/mpeak',\n",
       " 'SDSS_filters/spheroidLuminositiesStellar:SDSS_u:rest',\n",
       " 'otherLuminosities/spheroidLuminositiesStellar:HeliumContinuum:rest:dustAtlas',\n",
       " 'SEDs/spheroidLuminositiesStellar:SED_6548_406:rest:dustAtlas',\n",
       " 'baseDC2/_obs_sm_orig_um_snap',\n",
       " 'baseDC2/host_halo_z',\n",
       " 'SEDs/diskLuminositiesStellar:SED_1000_246:rest:dustAtlas',\n",
       " 'blackHoleMass',\n",
       " 'morphology/diskAxisRatio',\n",
       " 'spheroidMassStellar',\n",
       " 'ra',\n",
       " 'SEDs/spheroidLuminositiesStellar:SED_8329_517:rest:dustAtlas',\n",
       " 'SEDs/totalLuminositiesStellar:SED_17402_2596:rest',\n",
       " 'LSST_filters/totalLuminositiesStellar:LSST_r:observed:dustAtlas',\n",
       " 'otherLuminosities/totalLuminositiesStellar:OxygenContinuum:rest',\n",
       " 'uniqueHaloID',\n",
       " 'morphology/spheroidEllipticity',\n",
       " 'SEDs/spheroidLuminositiesStellar:SED_13177_1966:rest',\n",
       " 'SDSS_filters/spheroidLuminositiesStellar:SDSS_i:observed',\n",
       " 'baseDC2/hostid',\n",
       " 'totalStarFormationRate',\n",
       " 'SEDs/diskLuminositiesStellar:SED_1933_474:rest',\n",
       " 'SEDs/totalLuminositiesStellar:SED_3590_222:rest',\n",
       " 'LSST_filters/spheroidLuminositiesStellar:LSST_i:observed:dustAtlas',\n",
       " 'LSST_filters/totalLuminositiesStellar:LSST_i:rest',\n",
       " 'emissionLines/diskLineLuminosity:oxygenIII4959',\n",
       " 'LSST_filters/totalLuminositiesStellar:LSST_g:rest:dustAtlas',\n",
       " 'baseDC2/vpeak',\n",
       " 'SDSS_filters/diskLuminositiesStellar:SDSS_g:observed:dustAtlas',\n",
       " 'SEDs/totalLuminositiesStellar:SED_3590_222:rest:dustAtlas',\n",
       " 'SEDs/totalLuminositiesStellar:SED_1552_381:rest',\n",
       " 'morphology/spheroidHalfLightRadius',\n",
       " 'LSST_filters/diskLuminositiesStellar:LSST_i:rest:dustAtlas',\n",
       " 'LSST_filters/totalLuminositiesStellar:LSST_z:rest:dustAtlas',\n",
       " 'SDSS_filters/spheroidLuminositiesStellar:SDSS_z:observed:dustAtlas']"
      ]
     },
     "execution_count": 13,
     "metadata": {},
     "output_type": "execute_result"
    }
   ],
   "source": [
    "dc2_small.list_all_native_quantities()"
   ]
  },
  {
   "cell_type": "code",
   "execution_count": null,
   "id": "98ef32aa-70f4-4dce-904e-2169e0f68a26",
   "metadata": {},
   "outputs": [],
   "source": []
  }
 ],
 "metadata": {
  "kernelspec": {
   "display_name": "desc-python",
   "language": "python",
   "name": "desc-python"
  },
  "language_info": {
   "codemirror_mode": {
    "name": "ipython",
    "version": 3
   },
   "file_extension": ".py",
   "mimetype": "text/x-python",
   "name": "python",
   "nbconvert_exporter": "python",
   "pygments_lexer": "ipython3",
   "version": "3.8.8"
  }
 },
 "nbformat": 4,
 "nbformat_minor": 5
}
