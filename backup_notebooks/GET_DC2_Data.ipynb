{
 "cells": [
  {
   "cell_type": "code",
   "execution_count": 2,
   "id": "6554fa43-aacd-4f54-8ef6-87faa191eea3",
   "metadata": {},
   "outputs": [
    {
     "name": "stdout",
     "output_type": "stream",
     "text": [
      "GCRCatalogs = 1.3.2 | GCR = 0.9.2\n"
     ]
    }
   ],
   "source": [
    "## Note: if you clone the gcr-catalogs repo and are running this under the `examples` folder,\n",
    "## you can also use your version of GCRCatalogs:\n",
    "#import sys\n",
    "#sys.path.insert(0, '/path/to/your/cloned/gcr-catalogs')\n",
    "\n",
    "## The following lines are to check if you're in the lsst group\n",
    "import subprocess\n",
    "assert u'lsst' in subprocess.check_output(['groups']).decode().split(), 'You need to be in the `lsst` group for this notebook to work'\n",
    "import numpy as np\n",
    "import GCRCatalogs\n",
    "\n",
    "## check version\n",
    "print('GCRCatalogs =', GCRCatalogs.__version__, '|' ,'GCR =', GCRCatalogs.GCR.__version__)"
   ]
  },
  {
   "cell_type": "code",
   "execution_count": 37,
   "id": "4421558f-f770-4258-8805-8a1509d0f19b",
   "metadata": {},
   "outputs": [
    {
     "name": "stdout",
     "output_type": "stream",
     "text": [
      "buzzard\n",
      "buzzard_high-res\n",
      "cosmoDC2_v1.1.4_image\n",
      "cosmoDC2_v1.1.4_redmapper_v0.7.5\n",
      "cosmoDC2_v1.1.4_small\n",
      "dc2_object_run1.2i\n",
      "dc2_object_run1.2i_all_columns\n",
      "dc2_object_run1.2i_tract4850\n",
      "dc2_object_run1.2i_with_photoz\n",
      "dc2_object_run1.2p\n",
      "dc2_object_run1.2p_all_columns\n",
      "dc2_object_run1.2p_tract4850\n",
      "dc2_object_run2.2i_dr2_wfd\n",
      "dc2_object_run2.2i_dr2_wfd_with_addons\n",
      "dc2_object_run2.2i_dr3a\n",
      "dc2_object_run2.2i_dr3a_with_metacal\n",
      "dc2_object_run2.2i_dr3a_with_photoz\n",
      "dc2_object_run2.2i_dr6\n",
      "dc2_object_run2.2i_dr6_with_addons\n",
      "dc2_truth_run1.2_static\n",
      "dc2_truth_run1.2_variable_lightcurve\n",
      "dc2_truth_run1.2_variable_summary\n",
      "dc2_truth_run2.2i_galaxy_truth_summary\n",
      "dc2_truth_run2.2i_sn_truth_summary\n",
      "dc2_truth_run2.2i_sn_variability_truth\n",
      "dc2_truth_run2.2i_star_lc_stats\n",
      "dc2_truth_run2.2i_star_truth_summary\n",
      "dc2_truth_run2.2i_star_variability_truth\n",
      "dc2_truth_run2.2i_summary_tract_partition\n",
      "dc2_truth_run3.1i_agn_auxiliary_info\n",
      "dc2_truth_run3.1i_agn_truth_summary\n",
      "dc2_truth_run3.1i_agn_variability_truth\n",
      "dc2_truth_run3.1i_lensed_agn_truth_summary\n",
      "dc2_truth_run3.1i_lensed_agn_variability_truth\n",
      "dc2_truth_run3.1i_lensed_host_truth_summary\n",
      "dc2_truth_run3.1i_lensed_sn_variability_truth\n",
      "dc2_truth_run3.1i_lensed_sne_truth_summary\n",
      "protoDC2\n",
      "protoDC2_run1.2\n",
      "skysim5000_v1.1.1\n"
     ]
    }
   ],
   "source": [
    "## find available catlaogs, sorted by their name\n",
    "\n",
    "print('\\n'.join(sorted(GCRCatalogs.get_available_catalogs())))"
   ]
  },
  {
   "cell_type": "markdown",
   "id": "da72b286-c765-4546-81ce-1c2e7442a0b3",
   "metadata": {},
   "source": [
    "# Exploring redmapper"
   ]
  },
  {
   "cell_type": "code",
   "execution_count": 13,
   "id": "dc5f9965-8d83-40f7-a75b-539fce4103a1",
   "metadata": {},
   "outputs": [],
   "source": [
    "import pandas as pd"
   ]
  },
  {
   "cell_type": "code",
   "execution_count": 5,
   "id": "7a2115a1-005d-4e21-af99-9256b295c279",
   "metadata": {},
   "outputs": [],
   "source": [
    "catalog = GCRCatalogs.load_catalog('cosmoDC2_v1.1.4_redmapper_v0.7.5')\n"
   ]
  },
  {
   "cell_type": "code",
   "execution_count": 9,
   "id": "4241cc34-ca17-4d28-a803-76bd4c5d9983",
   "metadata": {},
   "outputs": [
    {
     "name": "stdout",
     "output_type": "stream",
     "text": [
      "['cluster_id', 'cluster_id_member', 'dec', 'dec_cen_0', 'dec_cen_1', 'dec_cen_2', 'dec_cen_3', 'dec_cen_4', 'dec_member', 'id_cen_0', 'id_cen_1', 'id_cen_2', 'id_cen_3', 'id_cen_4', 'id_member', 'mag_g_lsst_member', 'mag_i_lsst_member', 'mag_r_lsst_member', 'mag_y_lsst_member', 'mag_z_lsst_member', 'magerr_g_lsst_member', 'magerr_i_lsst_member', 'magerr_r_lsst_member', 'magerr_y_lsst_member', 'magerr_z_lsst_member', 'maskfrac', 'p_cen_0', 'p_cen_1', 'p_cen_2', 'p_cen_3', 'p_cen_4', 'p_member', 'pfree_member', 'ra', 'ra_cen_0', 'ra_cen_1', 'ra_cen_2', 'ra_cen_3', 'ra_cen_4', 'ra_member', 'redshift', 'redshift_err', 'redshift_true_cg', 'redshift_true_member', 'refmag_err_member', 'refmag_member', 'richness', 'richness_err', 'scaleval', 'theta_i_member', 'theta_r_member']\n"
     ]
    }
   ],
   "source": [
    "print(sorted(catalog.list_all_quantities()))\n"
   ]
  },
  {
   "cell_type": "code",
   "execution_count": 30,
   "id": "1cf7ac42-c4f4-4286-8cbf-155820b0dc2c",
   "metadata": {},
   "outputs": [],
   "source": [
    "data = catalog.get_quantities(catalog.list_all_quantities())"
   ]
  },
  {
   "cell_type": "code",
   "execution_count": null,
   "id": "9bca5935-fe13-459d-a7c8-c0f501ab128f",
   "metadata": {},
   "outputs": [],
   "source": []
  },
  {
   "cell_type": "code",
   "execution_count": 36,
   "id": "4cd278bb-66ac-494b-94ca-92da467cbc97",
   "metadata": {},
   "outputs": [
    {
     "name": "stdout",
     "output_type": "stream",
     "text": [
      "redshift_true_member (167438,)\n",
      "ra_cen_0 (2796,)\n",
      "refmag_err_member (167438,)\n",
      "mag_z_lsst_member (167438,)\n",
      "maskfrac (2796,)\n",
      "ra_cen_1 (2796,)\n",
      "scaleval (2796,)\n",
      "id_member (167438,)\n",
      "ra_member (167438,)\n",
      "ra_cen_2 (2796,)\n",
      "magerr_g_lsst_member (167438,)\n",
      "dec_cen_1 (2796,)\n",
      "magerr_i_lsst_member (167438,)\n",
      "p_cen_2 (2796,)\n",
      "mag_r_lsst_member (167438,)\n",
      "id_cen_2 (2796,)\n",
      "theta_r_member (167438,)\n",
      "dec_cen_3 (2796,)\n",
      "p_member (167438,)\n",
      "dec_cen_2 (2796,)\n",
      "mag_g_lsst_member (167438,)\n",
      "ra_cen_4 (2796,)\n",
      "refmag_member (167438,)\n",
      "id_cen_3 (2796,)\n",
      "ra_cen_3 (2796,)\n",
      "id_cen_1 (2796,)\n",
      "magerr_z_lsst_member (167438,)\n",
      "mag_y_lsst_member (167438,)\n",
      "richness_err (2796,)\n",
      "dec_cen_0 (2796,)\n",
      "redshift_true_cg (2796,)\n",
      "dec_member (167438,)\n",
      "magerr_r_lsst_member (167438,)\n",
      "dec_cen_4 (2796,)\n",
      "id_cen_4 (2796,)\n",
      "mag_i_lsst_member (167438,)\n",
      "cluster_id (2796,)\n",
      "pfree_member (167438,)\n",
      "ra (2796,)\n",
      "redshift (2796,)\n",
      "id_cen_0 (2796,)\n",
      "p_cen_3 (2796,)\n",
      "p_cen_1 (2796,)\n",
      "magerr_y_lsst_member (167438,)\n",
      "dec (2796,)\n",
      "richness (2796,)\n",
      "redshift_err (2796,)\n",
      "p_cen_4 (2796,)\n",
      "p_cen_0 (2796,)\n",
      "cluster_id_member (167438,)\n",
      "theta_i_member (167438,)\n"
     ]
    }
   ],
   "source": [
    "cluster_keys = []\n",
    "member_keys = []\n",
    "clust_ref_len = len(data[\"richness\"])\n",
    "memb_ref_len = len(data[\"ra_member\"])\n",
    "for key in data.keys():\n",
    "    print(key, data[key].shape)\n",
    "    if len(data[key]) = "
   ]
  },
  {
   "cell_type": "code",
   "execution_count": null,
   "id": "6e78e80e-1ad4-408c-913f-919d940c6b3c",
   "metadata": {},
   "outputs": [],
   "source": [
    "redcat = pd.DataFrame()\n",
    "colnames = sorted(catalog.list_all_quantities())\n",
    "\n",
    "for cname in colnames:\n",
    "    print cname\n",
    "    redcat[cname] = catalog.get_quantities(catalog.list_all_quantities(cname))"
   ]
  },
  {
   "cell_type": "code",
   "execution_count": 17,
   "id": "2c3b20d8-fcd3-4aa5-8555-44d4994ee118",
   "metadata": {},
   "outputs": [],
   "source": [
    "colnames = sorted(catalog.list_all_quantities())\n"
   ]
  },
  {
   "cell_type": "code",
   "execution_count": 19,
   "id": "5eca8817-e7eb-4d93-b069-45e35904d0ce",
   "metadata": {},
   "outputs": [
    {
     "data": {
      "text/plain": [
       "'cluster_id'"
      ]
     },
     "execution_count": 19,
     "metadata": {},
     "output_type": "execute_result"
    }
   ],
   "source": [
    "colnames[0]"
   ]
  },
  {
   "cell_type": "code",
   "execution_count": 23,
   "id": "a70c6d09-41d3-482b-8391-35c4a5660875",
   "metadata": {},
   "outputs": [],
   "source": [
    "dii = catalog.get_quantities(catalog.list_all_quantities())"
   ]
  },
  {
   "cell_type": "code",
   "execution_count": 25,
   "id": "cbf13005-675f-4dc4-b1a1-f91158fbaf65",
   "metadata": {},
   "outputs": [
    {
     "data": {
      "text/plain": [
       "array([-25.71799612, -27.20434071, -26.71720819, ..., -44.93665779,\n",
       "       -43.67378278, -43.62310755])"
      ]
     },
     "execution_count": 25,
     "metadata": {},
     "output_type": "execute_result"
    }
   ],
   "source": [
    "dii[\"dec\"]"
   ]
  },
  {
   "cell_type": "code",
   "execution_count": 11,
   "id": "a455d962-cef4-45a6-ad37-c16c71c4fed5",
   "metadata": {},
   "outputs": [
    {
     "data": {
      "text/plain": [
       "['redshift_true_member',\n",
       " 'ra_cen_0',\n",
       " 'refmag_err_member',\n",
       " 'mag_z_lsst_member',\n",
       " 'maskfrac',\n",
       " 'ra_cen_1',\n",
       " 'scaleval',\n",
       " 'id_member',\n",
       " 'ra_member',\n",
       " 'ra_cen_2',\n",
       " 'magerr_g_lsst_member',\n",
       " 'dec_cen_1',\n",
       " 'magerr_i_lsst_member',\n",
       " 'p_cen_2',\n",
       " 'mag_r_lsst_member',\n",
       " 'id_cen_2',\n",
       " 'theta_r_member',\n",
       " 'dec_cen_3',\n",
       " 'p_member',\n",
       " 'dec_cen_2',\n",
       " 'mag_g_lsst_member',\n",
       " 'ra_cen_4',\n",
       " 'refmag_member',\n",
       " 'id_cen_3',\n",
       " 'ra_cen_3',\n",
       " 'id_cen_1',\n",
       " 'magerr_z_lsst_member',\n",
       " 'mag_y_lsst_member',\n",
       " 'richness_err',\n",
       " 'dec_cen_0',\n",
       " 'redshift_true_cg',\n",
       " 'dec_member',\n",
       " 'magerr_r_lsst_member',\n",
       " 'dec_cen_4',\n",
       " 'id_cen_4',\n",
       " 'mag_i_lsst_member',\n",
       " 'cluster_id',\n",
       " 'pfree_member',\n",
       " 'ra',\n",
       " 'redshift',\n",
       " 'id_cen_0',\n",
       " 'p_cen_3',\n",
       " 'p_cen_1',\n",
       " 'magerr_y_lsst_member',\n",
       " 'dec',\n",
       " 'richness',\n",
       " 'redshift_err',\n",
       " 'p_cen_4',\n",
       " 'p_cen_0',\n",
       " 'cluster_id_member',\n",
       " 'theta_i_member']"
      ]
     },
     "execution_count": 11,
     "metadata": {},
     "output_type": "execute_result"
    }
   ],
   "source": [
    "catalog.list_all_quantities()"
   ]
  },
  {
   "cell_type": "code",
   "execution_count": 10,
   "id": "5aa19023-e8ec-4458-b856-0350995c7fd3",
   "metadata": {},
   "outputs": [
    {
     "ename": "SyntaxError",
     "evalue": "unexpected EOF while parsing (<ipython-input-10-3927aabc2bf8>, line 1)",
     "output_type": "error",
     "traceback": [
      "\u001b[0;36m  File \u001b[0;32m\"<ipython-input-10-3927aabc2bf8>\"\u001b[0;36m, line \u001b[0;32m1\u001b[0m\n\u001b[0;31m    catalog.get_quantities(\u001b[0m\n\u001b[0m                           ^\u001b[0m\n\u001b[0;31mSyntaxError\u001b[0m\u001b[0;31m:\u001b[0m unexpected EOF while parsing\n"
     ]
    }
   ],
   "source": [
    "catalog.get_quantities()"
   ]
  },
  {
   "cell_type": "markdown",
   "id": "573d155c-0fdc-4f0d-93ef-83b831cc4348",
   "metadata": {},
   "source": [
    "# Get a galaxy catalog around each cluster out to 20 arcmin\n",
    "Just \n",
    "\n",
    "* Ra, DEC\n",
    "* g, r, i, z\n",
    "* redshift"
   ]
  },
  {
   "cell_type": "code",
   "execution_count": null,
   "id": "c20ed62c-7b69-4603-a675-887ead7549e1",
   "metadata": {},
   "outputs": [],
   "source": []
  }
 ],
 "metadata": {
  "kernelspec": {
   "display_name": "desc-python",
   "language": "python",
   "name": "desc-python"
  },
  "language_info": {
   "codemirror_mode": {
    "name": "ipython",
    "version": 3
   },
   "file_extension": ".py",
   "mimetype": "text/x-python",
   "name": "python",
   "nbconvert_exporter": "python",
   "pygments_lexer": "ipython3",
   "version": "3.8.8"
  }
 },
 "nbformat": 4,
 "nbformat_minor": 5
}
