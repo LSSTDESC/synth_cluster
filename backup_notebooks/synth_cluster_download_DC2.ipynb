{
 "cells": [
  {
   "cell_type": "markdown",
   "id": "e9f417a6-4b79-4c68-8b42-a6451a85a827",
   "metadata": {},
   "source": [
    "# Synthetic Cluster Generation Tutorial Part 1: Data Preparation"
   ]
  },
  {
   "cell_type": "markdown",
   "id": "0ef5dca1-40bc-49ee-a35a-d8f8ee7f810c",
   "metadata": {},
   "source": [
    "Owner: **Tamas Norbert Varga** @vargatn\n",
    "\n",
    "Last Verifed to Run: 2021-09-30 (by @vargatn)"
   ]
  },
  {
   "cell_type": "markdown",
   "id": "0ffa42ed-3428-459c-bacf-ac1389f1faf3",
   "metadata": {},
   "source": [
    "This notebook will describe how to pre-process the DC2 truth catalog to extract catalog cutouts for redMaPPer cluster line-of-sights. \n",
    "\n",
    "**Objectives:**\n",
    "\n",
    "    * Using the Generic Catalog Reader we will load the DC2 v1.1.4 truth catalog and the positions and properties of redMaPPer clusters.\n",
    "    * Using healpix disc query, we will then adaptively query the angular vicinity of each cluster\n",
    "    * Add the angular separation from the cluster as a new column\n",
    "    * Save the cutout catalog for future calculation for each cluster. \n",
    "    * Save three healpix pixel catalogs to give as an estimate of the *field* galaxy population.\n",
    "\n",
    "Logistics: This notebook is intended to be be run through the This notebook is intended to be run through the JupyterHub NERSC interface available here: https://jupyter-dev.nersc.gov. using the *desc_stack_weekly* kernel\n",
    "\n",
    "Other notes:\n",
    "\n",
    "    Some of the calculations in this notebook are time consuming, please be mindful of the interactive node resources.\n",
    "    \n",
    "Output:\n",
    "\n",
    "    The results of this notebook are made available on NERSC at /global/cscratch1/sd/tvarga/DC_DATA/dc2_cluster_sim_cutouts\n"
   ]
  },
  {
   "cell_type": "code",
   "execution_count": 1,
   "id": "8d88ab02-aaae-4e34-ae1d-cd9ed0ef7751",
   "metadata": {},
   "outputs": [
    {
     "name": "stdout",
     "output_type": "stream",
     "text": [
      "GCRCatalogs = 1.3.2 | GCR = 0.9.2\n"
     ]
    }
   ],
   "source": [
    "import matplotlib.pyplot as plt\n",
    "%matplotlib inline\n",
    "\n",
    "import numpy as np\n",
    "import pandas as pd\n",
    "import pickle \n",
    "\n",
    "import GCRCatalogs\n",
    "from GCR import GCRQuery\n",
    "import healpy as hp\n",
    "\n",
    "## check version\n",
    "print('GCRCatalogs =', GCRCatalogs.__version__, '|' ,'GCR =', GCRCatalogs.GCR.__version__)"
   ]
  },
  {
   "cell_type": "markdown",
   "id": "1bcd5b5e-c5f2-4f08-87a9-f79316d47ebc",
   "metadata": {},
   "source": [
    "# Loading and  Selecting redMaPPer clusters"
   ]
  },
  {
   "cell_type": "code",
   "execution_count": 2,
   "id": "6f38e6d8-833d-40ac-89d6-68ca9a917ad6",
   "metadata": {},
   "outputs": [],
   "source": [
    "redcat = GCRCatalogs.load_catalog('cosmoDC2_v1.1.4_redmapper_v0.7.5')"
   ]
  },
  {
   "cell_type": "code",
   "execution_count": 3,
   "id": "659f5c13-4e6d-4e0d-b1c1-ebab7d628d96",
   "metadata": {},
   "outputs": [],
   "source": [
    "allclust = pd.DataFrame(redcat.get_quantities(['cluster_id', 'ra', 'dec', \"richness\", \"redshift\"]))"
   ]
  },
  {
   "cell_type": "markdown",
   "id": "2032ef45-b9f7-431c-8169-2a4c4165944f",
   "metadata": {},
   "source": [
    "To select a roughly homogenous target sample, we restrict the richness and redshift range"
   ]
  },
  {
   "cell_type": "code",
   "execution_count": 4,
   "id": "286898d9-584e-4458-895f-88bab2339b68",
   "metadata": {},
   "outputs": [
    {
     "name": "stdout",
     "output_type": "stream",
     "text": [
      "110\n"
     ]
    }
   ],
   "source": [
    "ii = (allclust[\"richness\"] > 30) & (allclust[\"richness\"] < 60) & (allclust[\"redshift\"] > 0.2) & (allclust[\"redshift\"] < 0.35)\n",
    "print(ii.sum())\n",
    "clust = allclust[ii]"
   ]
  },
  {
   "cell_type": "markdown",
   "id": "128ba93b-b26c-42ee-a8e6-fc6fe4a2e8e1",
   "metadata": {
    "tags": []
   },
   "source": [
    "This relatively broad selectin yields only 110 clusters. these will serve as the targets we will seek to emulate in later stages"
   ]
  },
  {
   "cell_type": "code",
   "execution_count": 5,
   "id": "0d0508b6-4574-4a29-a0bc-0baba6e6fa0e",
   "metadata": {},
   "outputs": [
    {
     "data": {
      "text/plain": [
       "Text(0, 0.5, 'DEC [deg]')"
      ]
     },
     "execution_count": 5,
     "metadata": {},
     "output_type": "execute_result"
    },
    {
     "data": {
      "image/png": "[encoded data removed]",
      "text/plain": [
       "<Figure size 432x288 with 1 Axes>"
      ]
     },
     "metadata": {
      "needs_background": "light"
     },
     "output_type": "display_data"
    }
   ],
   "source": [
    "fig = plt.figure()\n",
    "ax = fig.add_subplot(111)\n",
    "\n",
    "bins = (\n",
    "    np.linspace(clust[\"ra\"].min(), clust[\"ra\"].max(), 100),\n",
    "    np.linspace(clust[\"dec\"].min(), clust[\"dec\"].max(), 100),\n",
    ")\n",
    "#ax.hist2d(dc_pos[\"ra\"], dc_pos[\"dec\"], bins=bins)\n",
    "ax.scatter(allclust[\"ra\"], allclust[\"dec\"], color=\"black\", s=0.3, label=\"all clusters\")\n",
    "ax.scatter(clust[\"ra\"], clust[\"dec\"], color=\"red\", label=\"selected clusters\")\n",
    "\n",
    "ax.legend()\n",
    "\n",
    "ax.set_xlabel(\"RA [deg]\")\n",
    "ax.set_ylabel(\"DEC [deg]\")"
   ]
  },
  {
   "cell_type": "markdown",
   "id": "d89ee157-f621-4bd8-8fd7-ec94ffd45b1c",
   "metadata": {},
   "source": [
    "The cluster in GCR has a mix of cluster and cluster-member related columns, with different lengths respectively. In the following we save both in a format mimicing the public redMaPPer catalogs"
   ]
  },
  {
   "cell_type": "code",
   "execution_count": 6,
   "id": "c29c94c7-3f6b-42bd-93f5-90fb0f24f4c6",
   "metadata": {},
   "outputs": [],
   "source": [
    "keys_clust = []\n",
    "keys_membs = []\n",
    "for key in np.sort(redcat.list_all_quantities()):\n",
    "    #print(key)\n",
    "    if \"member\" in key:\n",
    "        keys_membs.append(key)\n",
    "    else:\n",
    "        keys_clust.append(key)\n",
    "clustcat = pd.DataFrame(redcat.get_quantities(keys_clust))\n",
    "clustcat.to_hdf(\"/global/cscratch1/sd/tvarga/DC_DATA/dc2_cluster_sim_cutouts/cosmoDC2_v1.1.4_redmapper_v0.7.5_clust.h5\", key=\"data\")\n",
    "membcat = pd.DataFrame(redcat.get_quantities(keys_membs))\n",
    "membcat.to_hdf(\"/global/cscratch1/sd/tvarga/DC_DATA/dc2_cluster_sim_cutouts/cosmoDC2_v1.1.4_redmapper_v0.7.5_membs.h5\", key=\"data\")"
   ]
  },
  {
   "cell_type": "markdown",
   "id": "b074d513-837f-46c3-b24d-eba7623016f0",
   "metadata": {},
   "source": [
    "# Query galaxies around clusters from DC2"
   ]
  },
  {
   "cell_type": "markdown",
   "id": "558a6ff4-9d5c-4542-8053-959a6d9b9831",
   "metadata": {},
   "source": [
    "The full DC2 catalog is too big to process directly. While the DC2_small is too small to contain enough galaxy clusters for future calculations. Thus we will make use of the native_filter based on healpix position to select the subset of galaxies around clusters from the full DC2 catalog. "
   ]
  },
  {
   "cell_type": "code",
   "execution_count": 7,
   "id": "d1c32201-b90c-4847-bb87-6bcfe2790053",
   "metadata": {},
   "outputs": [
    {
     "data": {
      "text/plain": [
       "['redshift_block_lower', 'healpix_pixel']"
      ]
     },
     "execution_count": 7,
     "metadata": {},
     "output_type": "execute_result"
    }
   ],
   "source": [
    "cat = GCRCatalogs.load_catalog(\"cosmoDC2_v1.1.4_image\")\n",
    "cat.native_filter_quantities"
   ]
  },
  {
   "cell_type": "markdown",
   "id": "0611e619-b9c9-4f0e-a28a-e24cf897b7ce",
   "metadata": {},
   "source": [
    "The healpix_pixel column assumes nside=32 in the nest=True scheme"
   ]
  },
  {
   "cell_type": "markdown",
   "id": "78ff1781-38e6-4d85-8c88-c460d3b87fe4",
   "metadata": {},
   "source": [
    "We cannot (and should not) load each catalog column from DC2. We will only select a few key colums, these are"
   ]
  },
  {
   "cell_type": "code",
   "execution_count": 8,
   "id": "b62ba16e-ab56-43d8-a312-fa2a2ab0d084",
   "metadata": {},
   "outputs": [],
   "source": [
    "quantities = [\"galaxy_id\", \"ra\", \"dec\", \"redshift_true\",\n",
    "              \"mag_g\", \"mag_r\", \"mag_i\", \"mag_z\",\n",
    "              \"Mag_true_g_lsst_z0\", \"Mag_true_r_lsst_z0\", \"Mag_true_i_lsst_z0\", \"Mag_true_z_lsst_z0\",\n",
    "              \"size_true\", \"ellipticity_1_true\", \"ellipticity_2_true\",\n",
    "              'shear_1', 'shear_2', 'halo_id', 'halo_mass', 'stellar_mass', 'is_central',\n",
    "             ]"
   ]
  },
  {
   "cell_type": "markdown",
   "id": "7fdc3a00-d997-4d76-bf0c-3731723d68cf",
   "metadata": {
    "tags": []
   },
   "source": [
    "The exact column description is located at https://github.com/LSSTDESC/gcr-catalogs/blob/master/GCRCatalogs/SCHEMA.md"
   ]
  },
  {
   "cell_type": "markdown",
   "id": "d4ddbe5b-0bc5-486f-93a4-b491fed915d5",
   "metadata": {},
   "source": [
    "Now we loop over all of the targeted galaxy clusters and query galaxies from the DC2 truth catalog. \n",
    "\n",
    "(The below script currently assumes a flat-sky approximation to calculate angular separation. This is suitable for a technical demonstration as DC2 ra, dec positionas are close to the equator.)"
   ]
  },
  {
   "cell_type": "markdown",
   "id": "a7a5f69a-dac7-4ec0-bb75-26132f472645",
   "metadata": {},
   "source": [
    "**Note** the below cell might take a substantial amount of time to run"
   ]
  },
  {
   "cell_type": "code",
   "execution_count": null,
   "id": "3b863ce8-c143-4f71-b9f6-a7dd49f42cf7",
   "metadata": {},
   "outputs": [],
   "source": [
    "nside = 32\n",
    "nest = True\n",
    "search_radius = 20. / 60 # search radius\n",
    "search_radius_rad = search_radius / 180. * np.pi\n",
    "\n",
    "available_pixels = np.array(cat.available_healpix_pixels)\n",
    "for i in np.arange(len(clust)):\n",
    "    ipix = hp.ang2pix(32, clust[\"ra\"].iloc[i], clust[\"dec\"].iloc[i], lonlat=nest, nest=nest)\n",
    "    #print(i, ipix, np.where(ipix == available_pixels)[0])\n",
    "    \n",
    "    ivec = hp.pix2vec(nside, ipix, nest)\n",
    "    pixels_to_load = hp.query_disc(nside, ivec, search_radius_rad, inclusive=True)\n",
    "    print(i, pixels_to_load)\n",
    "    \n",
    "    cra = clust[\"ra\"].iloc[i]\n",
    "    cdec = clust[\"dec\"].iloc[i]\n",
    "    filters = [\n",
    "        \"ra < {}\".format(cra + search_radius),\n",
    "        \"ra > {}\".format(cra - search_radius),\n",
    "        \"dec < {}\".format(cdec + search_radius),\n",
    "        \"dec > {}\".format(cdec - search_radius),\n",
    "    ] # this is simply a ~ rectangular patch\n",
    "\n",
    "    _data = []\n",
    "    for pix in pixels_to_load:\n",
    "        native_filter = [\"healpix_pixel == {}\".format(pix)]\n",
    "        print(native_filter)\n",
    "        tmp = cat.get_quantities(quantities, filters=filters, native_filters=native_filter)\n",
    "        __data = pd.DataFrame(tmp)\n",
    "        _data.append(__data)\n",
    "    data = pd.concat(_data)\n",
    "    print(\"data loaded\")\n",
    "    dist = np.sqrt((cra - data[\"ra\"])**2. + (cdec - data[\"dec\"])**2.)\n",
    "    data[\"R\"] = dist * 60. # convert distance to arcminutes\n",
    "    \n",
    "    cid = clust[\"cluster_id\"].iloc[i]\n",
    "    oname = \"/global/cscratch1/sd/tvarga/DC_DATA/dc2_cluster_sim_cutouts/clust-{}_dc2-sim-cutout.h5\".format(cid)\n",
    "    data.to_hdf(oname, key=\"data\")\n",
    "    print(\"saved\", oname)\n",
    "    \n",
    "    del __data\n",
    "    del _data\n",
    "    del data\n",
    "    #break"
   ]
  },
  {
   "cell_type": "markdown",
   "id": "75f868df-4a2e-492f-a315-4ad8cdca372c",
   "metadata": {},
   "source": [
    "# Saving a few healpix pixels as reference data for the field"
   ]
  },
  {
   "cell_type": "markdown",
   "id": "bfed20ea-b954-4cdb-9a3a-293b35eb2a22",
   "metadata": {},
   "source": [
    "Now we extract a sample of galaxies which is representative of the median \"field\" line-of-sight"
   ]
  },
  {
   "cell_type": "code",
   "execution_count": null,
   "id": "722c6ed1-c85c-402a-b8d6-b9028228a74d",
   "metadata": {},
   "outputs": [],
   "source": []
  },
  {
   "cell_type": "code",
   "execution_count": 12,
   "id": "4e517e24-d9ae-49bc-b9cc-05836c096b39",
   "metadata": {},
   "outputs": [
    {
     "name": "stdout",
     "output_type": "stream",
     "text": [
      "8786\n",
      "8787\n",
      "8788\n",
      "8789\n",
      "8790\n",
      "8791\n",
      "8792\n",
      "8793\n",
      "8794\n",
      "8913\n",
      "8914\n",
      "8915\n",
      "8916\n",
      "8917\n",
      "8918\n",
      "8919\n",
      "8920\n",
      "8921\n",
      "9042\n",
      "9043\n",
      "9044\n",
      "9045\n",
      "9046\n",
      "9047\n",
      "9048\n",
      "9049\n",
      "9050\n",
      "9169\n",
      "9170\n",
      "9171\n",
      "9172\n",
      "9173\n",
      "9174\n",
      "9175\n",
      "9176\n",
      "9177\n",
      "9178\n",
      "9298\n",
      "9299\n",
      "9300\n",
      "9301\n",
      "9302\n",
      "9303\n",
      "9304\n",
      "9305\n",
      "9306\n",
      "9425\n",
      "9426\n",
      "9427\n",
      "9428\n",
      "9429\n",
      "9430\n",
      "9431\n",
      "9432\n",
      "9433\n",
      "9434\n",
      "9554\n",
      "9555\n",
      "9556\n",
      "9557\n",
      "9558\n",
      "9559\n",
      "9560\n",
      "9561\n",
      "9562\n",
      "9681\n",
      "9682\n",
      "9683\n",
      "9684\n",
      "9685\n",
      "9686\n",
      "9687\n",
      "9688\n",
      "9689\n",
      "9690\n",
      "9810\n",
      "9811\n",
      "9812\n",
      "9813\n",
      "9814\n",
      "9815\n",
      "9816\n",
      "9817\n",
      "9818\n",
      "9937\n",
      "9938\n",
      "9939\n",
      "9940\n",
      "9941\n",
      "9942\n",
      "9943\n",
      "9944\n",
      "9945\n",
      "9946\n",
      "10066\n",
      "10067\n",
      "10068\n",
      "10069\n",
      "10070\n",
      "10071\n",
      "10072\n",
      "10073\n",
      "10074\n",
      "10193\n",
      "10194\n",
      "10195\n",
      "10196\n",
      "10197\n",
      "10198\n",
      "10199\n",
      "10200\n",
      "10201\n",
      "10202\n",
      "10321\n",
      "10322\n",
      "10323\n",
      "10324\n",
      "10325\n",
      "10326\n",
      "10327\n",
      "10328\n",
      "10329\n",
      "10444\n",
      "10445\n",
      "10446\n",
      "10447\n",
      "10448\n",
      "10449\n",
      "10450\n",
      "10451\n",
      "10452\n"
     ]
    }
   ],
   "source": [
    "#pixels = [8786, 8791, 9937]\n",
    "pixels = np.array(cat.available_healpix_pixels)\n",
    "for pix in pixels:\n",
    "    print(pix)\n",
    "    _refpixel = cat.get_quantities(quantities, native_filters=[\"healpix_pixel == {}\".format(pix)])\n",
    "    refpixel = pd.DataFrame(_refpixel)\n",
    "    refpixel.to_hdf(\"/global/cscratch1/sd/tvarga/DC_DATA/dc2_cluster_sim_cutouts/cosmoDC2_v1.1.4_pixel-v1-{}.h5\".format(pix), key=\"data\")"
   ]
  },
  {
   "cell_type": "code",
   "execution_count": 10,
   "id": "5251e60f-a481-4645-81ee-4745770b7ca2",
   "metadata": {},
   "outputs": [],
   "source": [
    "available_pixels = np.array(cat.available_healpix_pixels)\n",
    "#for i in np.arange(len(clust)):"
   ]
  },
  {
   "cell_type": "code",
   "execution_count": null,
   "id": "eb893763-1996-4997-a528-ba4a9b2ed855",
   "metadata": {},
   "outputs": [],
   "source": []
  }
 ],
 "metadata": {
  "kernelspec": {
   "display_name": "desc-stack-weekly",
   "language": "python",
   "name": "desc-stack-weekly"
  },
  "language_info": {
   "codemirror_mode": {
    "name": "ipython",
    "version": 3
   },
   "file_extension": ".py",
   "mimetype": "text/x-python",
   "name": "python",
   "nbconvert_exporter": "python",
   "pygments_lexer": "ipython3",
   "version": "3.8.8"
  }
 },
 "nbformat": 4,
 "nbformat_minor": 5
}
